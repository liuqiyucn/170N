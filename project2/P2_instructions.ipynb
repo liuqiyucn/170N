{
 "cells": [
  {
   "cell_type": "markdown",
   "metadata": {
    "id": "gkxWGhhmYGu0"
   },
   "source": [
    "# Project 2: Numerical Quantum Mechanics"
   ]
  },
  {
   "cell_type": "markdown",
   "metadata": {
    "id": "jBIR_iRoYGu1"
   },
   "source": [
    "## What files should I submit?\n",
    "\n",
    "* proj_2_module.py\n",
    "* proj_2_EigenTest.ipynb\n",
    "* proj_2_EigenTest.pdf\n",
    "* proj_2_EigenAnalysis.ipynb\n",
    "* proj_2_EigenAnalysis.pdf\n",
    "\n",
    "The .pdf are converted from .ipynb."
   ]
  },
  {
   "cell_type": "markdown",
   "metadata": {
    "id": "FpVtxuDyYGu2"
   },
   "source": [
    "## Write a Python module to compute eigenvalues and eigenvectors\n",
    "\n",
    "The module should contain a function\n",
    "\n",
    "    hermitian_eigensystem(H,tolerance)\n",
    "\n",
    "allowing you to numerically determine the eigenvalues and eigenvectors of a hermitian matrix of any size.  \n",
    "\n",
    "```H``` is a hermitian square matrix.\n",
    "\n",
    "```tolerance``` is a small number, such that we consider $M$ is diagonal when:\n",
    "\n",
    "$$\n",
    "\\text{off}[M] \\leq \\text{tolerance} * \\text{norm}[M]\n",
    "$$\n",
    "\n",
    "($\\text{off}[M]$ and $|M|$ defined in the lecture notes.)\n",
    "\n",
    "The module can contain any other functions you wish that might help you divide and conquer the diagonalization task into relevant sub-parts.  The eigenvalues should be output in non-decreasing order, and the corresponding eigenvectors should be listed in corresponding order.  The module's name should be:\n",
    "\n",
    "    proj_2_module.py\n",
    "\n",
    "\n",
    "You may use ```numpy.linalg.eig``` or ```scipy.linalg.eig``` to check your method, but do not put them secretly in your module."
   ]
  },
  {
   "cell_type": "markdown",
   "metadata": {
    "id": "cz88xw-_YGu2"
   },
   "source": [
    "### hint\n",
    "It is highly recommended that you split your functions into many parts.\n",
    "You may design your own strategy. Below is one example.\n",
    "\n",
    "* (A) jacobi_rotation\n",
    "* (O) off\n",
    "* (B) real_eigen calls (A) iteratively,  (B) also calls (O) to check if the matrix is consider as diagonal\n",
    "* (C) complex_eigen calls (B)\n",
    "* (D) hermitian_eigensystem calls (C), and makes the output ordered."
   ]
  },
  {
   "cell_type": "code",
   "execution_count": null,
   "metadata": {
    "id": "oi_DhuelYGu3"
   },
   "outputs": [],
   "source": [
    "#difficulty: ★★★\n",
    "def jacobi_rotation(A, j, k):\n",
    "    #Args:\n",
    "        # A (np.ndarray): n by n real symmetric matrix\n",
    "        # j (int): column parameter.\n",
    "        # k (int): row parameter.\n",
    "\n",
    "    #Returns:\n",
    "        # A (np.ndarray): n by n real symmetric matrix, where the A[j,k] and A[k,j] element is zero\n",
    "        # J (np.ndarray): n by n orthogonal matrix, the jacobi_rotation matrix\n",
    "\n",
    "    \n",
    "    return A, J"
   ]
  },
  {
   "cell_type": "code",
   "execution_count": null,
   "metadata": {
    "id": "Fc77phfZYGu4"
   },
   "outputs": [],
   "source": [
    "#difficulty: ★\n",
    "def off(A):\n",
    "    # see lecture note equation (12) \n",
    "    \n",
    "    return output"
   ]
  },
  {
   "cell_type": "code",
   "execution_count": null,
   "metadata": {
    "id": "i5Y33WGHYGu4"
   },
   "outputs": [],
   "source": [
    "#difficulty: ★★★\n",
    "def real_eigen(A,tolerance):\n",
    "    #Args:\n",
    "        # A (np.ndarray): n by n real symmetric matrix\n",
    "        # tolerance (double): the relative precision\n",
    "    #Returns:\n",
    "        # d (np.ndarray): n by 1 vector, d[i] is the i-th eigenvalue\n",
    "        # R (np.ndarray): n by n orthogonal matrix, R[:,i] is the i-th eigenvector\n",
    "        \n",
    "    # call jacobi_rotation(A, j, k) iteratively\n",
    "    # call off and norm to check if we can stop the iteration\n",
    "    # off (you write it)\n",
    "    # norm https://docs.scipy.org/doc/numpy-1.13.0/reference/generated/numpy.linalg.norm.html\n",
    "    \n",
    "        \n",
    "    return d, R"
   ]
  },
  {
   "cell_type": "code",
   "execution_count": null,
   "metadata": {
    "id": "06NJOCGcYGu4"
   },
   "outputs": [],
   "source": [
    "#difficulty: ★★\n",
    "def complex_eigen(H,tolerance):\n",
    "    #Args:\n",
    "        # A (np.ndarray): n by n real hermitian matrix\n",
    "        # tolerance (double): the relative precision\n",
    "    #Returns:\n",
    "        # d (np.ndarray): n by 1 vector, d[i] is the i-th eigenvalue\n",
    "        # U (np.ndarray): n by n unitary matrix, U[i,:] is the i-th eigenvector\n",
    "        \n",
    "    #(1) split H=S+iA to real and imaginary parts\n",
    "    #(2) construct a 2n by 2n real matrix B\n",
    "    #(3) call dd, R = real_eigen(B,tolerance)\n",
    "    #(4) organize the output of dd, R  to get d and U\n",
    "        \n",
    "    return d, U"
   ]
  },
  {
   "cell_type": "code",
   "execution_count": null,
   "metadata": {
    "id": "QO8O7lLUYGu5"
   },
   "outputs": [],
   "source": [
    "#difficulty: ★\n",
    "def hermitian_eigensystem(H,tolerance):\n",
    "    \n",
    "    # call complex_eigen(H,tolerance)\n",
    "    # rearrange d and U, so that they are in the non-decreasing order of eigenvalues\n",
    "    return d, U"
   ]
  },
  {
   "cell_type": "code",
   "execution_count": null,
   "metadata": {
    "id": "z98Gw8aeYGu5"
   },
   "outputs": [],
   "source": []
  },
  {
   "cell_type": "markdown",
   "metadata": {
    "id": "owBUy0sLYGu6"
   },
   "source": [
    "## Write a Jupyter notebook containing code tests\n",
    "\n",
    "The notebook is meant to validate the performance of your eigensystem module and should be named as:\n",
    "\n",
    "    proj_2_EigenTest.ipynb\n",
    "\n",
    "\n",
    "The notebook should contain:\n",
    "\n",
    "Tests showing that for hermitian matrices of sizes up to 30-by-30 with known eigenvalues, the function `hermitian eigensystem` gives correct eigenvalues and eigenvectors.  To generate test cases, you'll need to think about how you can generate hermitian matrices with known eigenvalues.  Hint: what happens when you apply a similarity transformation by a unitary matrix to a diagonal matrix?  You may also find it useful to look into the function 'scipy.stats.unitary_group' which allows one to generate random unitary matrices."
   ]
  },
  {
   "cell_type": "markdown",
   "metadata": {
    "id": "kWteFQp3YGu6"
   },
   "source": [
    "## Write a Jupyter notebook analyzing the anharmonic oscillator\n",
    "\n",
    "This notebook should use your eigensystem module to determine the first few eigenvalues and corresponding eigenvectors of the anharmonic oscillator hamiltonian.  The notebook should be named as:\n",
    "\n",
    "    proj_2_EigenAnalysis.ipynb\n",
    "        \n",
    "1. Show that the operators $\\hat x^2$ and $\\hat x^4$ have the following matrix elements in the harmonic oscillator basis:\n",
    "    \\begin{align}\n",
    "    \\langle n|\\hat x^2|m\\rangle \n",
    "    &=(n+1/2)\\delta_{nm} + \\tfrac{1}{2}\\sqrt{(n+1)(n+2)}\\,\\delta_{n,m-2} + \n",
    "\\tfrac{1}{2}\\sqrt{(n-1)n\\,}\\,\\delta_{n,m+2} \\\\\n",
    "    \\langle n|\\hat x^4|m\\rangle \n",
    "    &= \\tfrac{1}{4}\\!\\left(6n^2 + 6n + 3\\right)\\!\\delta_{nm}\n",
    "+ \\sqrt{(n+1)(n+2)}\\left(n+\\tfrac{3}{2}\\right)\\!\\delta_{n,m-2}\\;+ \\nonumber\\\\\n",
    "& + \\sqrt{(n-1)n\\,}\\left(n-\\tfrac{1}{2}\\right)\\!\\delta_{n,m+2} +\n",
    "\\tfrac{1}{4}\\sqrt{(n+1)(n+2)(n+3)(n+4)}\\,\\delta_{n,m-4}\\;+ \\nonumber\\\\\n",
    "& + \\tfrac{1}{4}\\sqrt{(n-3)(n-2)(n-1)n\\,}\\,\\delta_{n,m+4}.\n",
    "\\end{align}\n",
    "1. Solve the anharmonic oscillator eigenvalue problem written in the harmonic oscillator basis for at least the first four energy levels. Note that the function `hermval` from NumPy offers an easy solution to compute the eigenfunctions $\\psi_n(x)$ from the eigenvectors of the matrix representation of the hamiltonian. \n",
    "1. Plot the first four energy \n",
    "levels $E_n(\\lambda)$ versus $\\lambda$ over the range \n",
    "$0 \\leq \\lambda \\leq 1$. Plot also the spacings between the \n",
    "levels $\\Delta E(\\lambda) = E_{n+1}(\\lambda) - E_n(\\lambda)$. Make sure to use a basis \n",
    "size $N$ sufficiently larger than the desired number of lowest eigenvalues to ensure convergence of the eigensystem algorithm.\n",
    "1. Check the convergence of the method with respect to the basis size $N$ by plotting one \n",
    "of the lowest (or more) energy eigenvalues $E_n(N)$ for $\\lambda = 1$ versus the basis size $N$. \n",
    "Alternatively, to demonstrate the convergence more clearly, you can also plot the differences between \n",
    "two consecutive estimates $\\epsilon_n = E_n(N) - E_n(N\\!+\\!2)$ versus $N$.\n",
    "1. Plot and compare the first four eigenfunctions $\\psi_n(x)$ for the harmonic oscillator with $\\lambda=0$ to \n",
    "the eigenfunctions for the anharmonic oscillator with $\\lambda=1$."
   ]
  }
 ],
 "metadata": {
  "colab": {
   "name": "P2_instructions.ipynb",
   "provenance": []
  },
  "kernelspec": {
   "display_name": "Python 3",
   "language": "python",
   "name": "python3"
  },
  "language_info": {
   "codemirror_mode": {
    "name": "ipython",
    "version": 3
   },
   "file_extension": ".py",
   "mimetype": "text/x-python",
   "name": "python",
   "nbconvert_exporter": "python",
   "pygments_lexer": "ipython3",
   "version": "3.8.8"
  }
 },
 "nbformat": 4,
 "nbformat_minor": 1
}

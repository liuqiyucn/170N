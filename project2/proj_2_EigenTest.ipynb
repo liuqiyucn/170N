{
 "cells": [
  {
   "cell_type": "code",
   "execution_count": 1,
   "metadata": {},
   "outputs": [],
   "source": [
    "from P2_module import *"
   ]
  },
  {
   "cell_type": "code",
   "execution_count": 2,
   "metadata": {},
   "outputs": [],
   "source": [
    "def generate_matrix(n, type='symmetric'):\n",
    "    if type not in ['symmetric', 'hermitian']:\n",
    "        raise ValueError(\"Type must be 'symmetric' or 'hermitian'\")\n",
    "\n",
    "    A = np.random.rand(n, n)\n",
    "\n",
    "    if type == 'symmetric':\n",
    "        A = (A + A.T) / 2\n",
    "    elif type == 'hermitian':\n",
    "        B = np.random.rand(n, n)\n",
    "        A = A + 1j * B\n",
    "        A = (A + A.conj().T) / 2\n",
    "        np.fill_diagonal(A, np.real(A.diagonal()))\n",
    "\n",
    "    return A\n",
    "\n",
    "def compare_complex_vectors(v1, v2, tolerance=1e-4):\n",
    "    if np.allclose(v1, v2, atol = tolerance):\n",
    "        return True\n",
    "    for i in range(v1.size):\n",
    "        if np.abs(v2[i]) > 1e-3:\n",
    "            ratio = v1[i] / v2[i]\n",
    "            v1 = v1 / ratio\n",
    "            break\n",
    "    return np.allclose(v1, v2, atol=tolerance, rtol=tolerance)\n",
    "\n",
    "def compare_eigen_system(d_numpy, d_myfunc, U_numpy, U_myfunc, tol = 1e-4):\n",
    "    flag = True\n",
    "    d_numpy, U_numpy = order_eigensystems(d_numpy, U_numpy)\n",
    "    n = d_numpy.size\n",
    "    for i in range(n):\n",
    "        if not np.allclose(d_numpy[i], d_myfunc[i], atol = tol, rtol = tol):\n",
    "            flag = False\n",
    "    for i in range(n):\n",
    "        if not compare_complex_vectors(U_numpy[:,i], U_myfunc[:,i], tolerance=tol):\n",
    "            flag = False\n",
    "\n",
    "    return flag\n",
    "\n",
    "def comphrehensive_test(n = 30):\n",
    "    flag = True\n",
    "    count_symmetric = 0\n",
    "    fail_symmetric = []\n",
    "    for i in range(2, n+1):\n",
    "        rho = generate_matrix(i, type='symmetric')\n",
    "        d_numpy, R_numpy = np.linalg.eig(rho)\n",
    "        d_myfunc, R_myfunc = hermitian_eigensystem(rho, 1e-15)\n",
    "        if not compare_eigen_system(d_numpy, d_myfunc, R_numpy, R_myfunc):\n",
    "            flag = False\n",
    "            count_symmetric = count_symmetric+1\n",
    "            fail_symmetric.append(d_myfunc.size)\n",
    "\n",
    "    count_hermitian = 0\n",
    "    failed = []\n",
    "    for i in range(2, n+1):\n",
    "        rho = generate_matrix(i, type='hermitian')\n",
    "        d_numpy, R_numpy = np.linalg.eig(rho)\n",
    "        d_myfunc, R_myfunc = hermitian_eigensystem(rho, 1e-15)\n",
    "        if not compare_eigen_system(d_numpy, d_myfunc, R_numpy, R_myfunc):\n",
    "            flag = False\n",
    "            count_hermitian = count_hermitian + 1\n",
    "            failed.append(d_myfunc.size)\n",
    "    print('Symmetric failed: ', count_symmetric)\n",
    "    print('Hermitian failed: ', count_hermitian)\n",
    "    print('Symmemtric index: ', fail_symmetric)\n",
    "    print('Hermitian index: ', failed)\n",
    "    return flag"
   ]
  },
  {
   "cell_type": "markdown",
   "metadata": {},
   "source": [
    "# Simple checks"
   ]
  },
  {
   "cell_type": "code",
   "execution_count": 3,
   "metadata": {},
   "outputs": [],
   "source": [
    "rho = generate_matrix(20, type='symmetric')\n",
    "d_myfunc, R_myfunc = hermitian_eigensystem(rho, 1e-15)"
   ]
  },
  {
   "cell_type": "markdown",
   "metadata": {},
   "source": [
    "$d[0] <= d[1] <= ... <= d[n-1]$     (where n is the dimension of H)"
   ]
  },
  {
   "cell_type": "code",
   "execution_count": 4,
   "metadata": {},
   "outputs": [
    {
     "data": {
      "text/plain": [
       "True"
      ]
     },
     "execution_count": 4,
     "metadata": {},
     "output_type": "execute_result"
    }
   ],
   "source": [
    "np.all(np.diff(d_myfunc) > 0)"
   ]
  },
  {
   "cell_type": "markdown",
   "metadata": {},
   "source": [
    "np.transpose(U) * U = U * np.transpose(U) = np.eye(n)"
   ]
  },
  {
   "cell_type": "code",
   "execution_count": 5,
   "metadata": {},
   "outputs": [
    {
     "data": {
      "text/plain": [
       "True"
      ]
     },
     "execution_count": 5,
     "metadata": {},
     "output_type": "execute_result"
    }
   ],
   "source": [
    "np.allclose(R_myfunc.T @ R_myfunc, np.eye(d_myfunc.size), atol=1e-5, rtol=1e-5)"
   ]
  },
  {
   "cell_type": "markdown",
   "metadata": {},
   "source": [
    "H * U[:,k] = d[k] *　U[:,k]      k=0,1,2,...,(n-1)"
   ]
  },
  {
   "cell_type": "code",
   "execution_count": 6,
   "metadata": {},
   "outputs": [
    {
     "name": "stdout",
     "output_type": "stream",
     "text": [
      "True\n"
     ]
    }
   ],
   "source": [
    "flag = True\n",
    "for i in range(d_myfunc.size):\n",
    "    if not np.allclose(rho@R_myfunc[:,i], d_myfunc[i]*R_myfunc[:,i], atol = 1e-5, rtol = 1e-5):\n",
    "        print(i)\n",
    "        flag = False\n",
    "print(flag)"
   ]
  },
  {
   "cell_type": "markdown",
   "metadata": {},
   "source": [
    "# Comprehensive test"
   ]
  },
  {
   "cell_type": "code",
   "execution_count": 7,
   "metadata": {},
   "outputs": [
    {
     "name": "stdout",
     "output_type": "stream",
     "text": [
      "1th comphrehensive_test\n",
      "Symmetric failed:  0\n",
      "Hermitian failed:  0\n",
      "Symmemtric index:  []\n",
      "Hermitian index:  []\n",
      "2th comphrehensive_test\n",
      "Symmetric failed:  0\n",
      "Hermitian failed:  0\n",
      "Symmemtric index:  []\n",
      "Hermitian index:  []\n",
      "3th comphrehensive_test\n",
      "Symmetric failed:  0\n",
      "Hermitian failed:  0\n",
      "Symmemtric index:  []\n",
      "Hermitian index:  []\n",
      "4th comphrehensive_test\n",
      "Symmetric failed:  0\n",
      "Hermitian failed:  0\n",
      "Symmemtric index:  []\n",
      "Hermitian index:  []\n",
      "5th comphrehensive_test\n",
      "Symmetric failed:  0\n",
      "Hermitian failed:  0\n",
      "Symmemtric index:  []\n",
      "Hermitian index:  []\n",
      "All test passed\n"
     ]
    }
   ],
   "source": [
    "flag = True\n",
    "for i in range(5):\n",
    "    print('{}th comphrehensive_test'.format(i+1))\n",
    "    if not comphrehensive_test():\n",
    "        flag = False\n",
    "\n",
    "assert flag == True\n",
    "print(\"All test passed\")"
   ]
  }
 ],
 "metadata": {
  "kernelspec": {
   "display_name": "mqst",
   "language": "python",
   "name": "python3"
  },
  "language_info": {
   "codemirror_mode": {
    "name": "ipython",
    "version": 3
   },
   "file_extension": ".py",
   "mimetype": "text/x-python",
   "name": "python",
   "nbconvert_exporter": "python",
   "pygments_lexer": "ipython3",
   "version": "3.12.2"
  }
 },
 "nbformat": 4,
 "nbformat_minor": 2
}

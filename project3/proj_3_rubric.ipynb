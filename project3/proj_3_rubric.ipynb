{
 "cells": [
  {
   "cell_type": "markdown",
   "metadata": {},
   "source": [
    "# 34/34, great job!"
   ]
  },
  {
   "cell_type": "markdown",
   "metadata": {
    "id": "iAifCRWQm6gy"
   },
   "source": [
    "# Project 3: MCMC and Statistical Mechanics"
   ]
  },
  {
   "cell_type": "markdown",
   "metadata": {
    "id": "l0ZY3yZym6g1"
   },
   "source": [
    "## Write a Python module to run MCMC simulations (10 points, 3 for dice and 7 for Ising)\n",
    "\n",
    "Imagine that you are playing a game with your friend in which you roll a 6-sided die.  The way the game works is that every time the die lands on side 1 or side 2, you win one dollar, and every time the die lands on side 3, 4, 5, or 6, your friend wins one dollar.  Because you really want to win the game at all costs, you decide to cheat and use a weighted die.  This means that the side is preferentially weighted so that sides 1 and 2 are each three times more likely to land face up than sides 3, 4, 5, and 6.  In other words, if $p_k$ denotes the probability that side $k$ will land face up, then\n",
    "\n",
    "\\begin{align}\n",
    "    p_1 = p_2, \\qquad p_3 = p_4 = p_5 = p_6 \\qquad p_1 = 3 p_3.\n",
    "\\end{align}\n",
    "\n",
    "Your module should contain a function\n",
    "\n",
    "    weighted_die(num_steps)\n",
    "\n",
    "That runs an Markov Chain Monte Carlo (MCMC) simulation to simulate the results of rolling the die above a large number of times.  The argument `num_steps` tells the simulation how many MCMC updates you want to perform.  The simulation should keep track of your winnings (an integer dollar amount) in the game after each update, and it should return the approximate expected value (average) of your earnings in the game.  Note that you should be able to figure out the expected value of your earnings analytically in this case and compare this to what your simulation produces as a sanity check.\n",
    "\n",
    "Your module should contain a second function\n",
    "\n",
    "    two_dim_ising(L, temp, num_steps)\n",
    "    \n",
    "that simulates the 2-d ising model on a square, periodic lattice of a specified side length (number of spins) `L` and at a given temperature.  The inputs `temp` and `num_steps` specify the desired temperature of the lattice and the number of MCMC updates you wish to perform during the simulation.  The function should return whatever you think is useful in completing the Jupyter notebook described below."
   ]
  },
  {
   "cell_type": "code",
   "execution_count": null,
   "metadata": {},
   "outputs": [],
   "source": []
  },
  {
   "cell_type": "markdown",
   "metadata": {},
   "source": [
    "- Choose system sizes $L = 16, 32$ and a temperature of your choosing not to close to the critical temperature, and run the simulation.  Plot $U$ and $M$ as functions of $t$, the update step per site defined above. (5 points) \n",
    "\n",
    "- Roughly how long does it seem to take for the simulation to converge?  (3 points)\n",
    "\n",
    "- Does the time it takes seem to depend on the system size? (3 points)\n",
    "\n",
    "- Consider system sizes $L = 8, 16, 32, 64$. \n",
    "- For each size, generate an $M(T)$ curve.  Plot these 4 curves, together with the exact curve, *in the same plot.* - We suggest you start the simulations at a high temperature above the critical point $T_c$  and slowly cool the ferromagnet by decreasing the temperature in small steps. After each update of $T$, perform a large number of iterations with the Metropolis-Hastings algorithm without calculating the ensemble averages. Once the system is close to thermal equilibrium start drawing the samples from the equilibrium distribution and calculate the averages along the way. (5 points)\n",
    "\n",
    "- Choose your system size to be $L = 256$.  \n",
    "- Make sure run your simulation enough time steps, until the system is in equilibrium.\n",
    "- Plot three pictures of spin configuration, at temperature $T=1.8$, $T=2.3$, $T=4.0$.  Your pictures should display the grid of spins with either a black or white square at a given site depending on whether the site is in a spin up state or a spin down state. (5 points)\n",
    "\n",
    "- Comment on how the patterns differ at different temperatures and what they might physically tell us about how the system behaves at temperatures below, near, and above the critical temperature. (3 points)\n",
    "\n"
   ]
  },
  {
   "cell_type": "code",
   "execution_count": null,
   "metadata": {},
   "outputs": [],
   "source": []
  }
 ],
 "metadata": {
  "colab": {
   "name": "proj_3_instructions.ipynb",
   "provenance": []
  },
  "kernelspec": {
   "display_name": "Python 3 (ipykernel)",
   "language": "python",
   "name": "python3"
  },
  "language_info": {
   "codemirror_mode": {
    "name": "ipython",
    "version": 3
   },
   "file_extension": ".py",
   "mimetype": "text/x-python",
   "name": "python",
   "nbconvert_exporter": "python",
   "pygments_lexer": "ipython3",
   "version": "3.9.7"
  }
 },
 "nbformat": 4,
 "nbformat_minor": 1
}

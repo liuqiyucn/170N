{
 "cells": [
  {
   "cell_type": "markdown",
   "metadata": {},
   "source": [
    "# TA: 60/60. Great job with problem 4."
   ]
  },
  {
   "cell_type": "code",
   "execution_count": 4,
   "metadata": {},
   "outputs": [],
   "source": [
    "import numpy as np\n",
    "import matplotlib.pyplot as plt\n",
    "from numba import njit\n",
    "import itertools\n",
    "from python_problem_set import *"
   ]
  },
  {
   "cell_type": "markdown",
   "metadata": {
    "id": "mFcbXxYaaGvv"
   },
   "source": [
    "# Week 2"
   ]
  },
  {
   "cell_type": "markdown",
   "metadata": {
    "id": "tE9ue1g1aGvw"
   },
   "source": [
    "## What to turn in?\n",
    "\n",
    "(1) a module file named  ```python_problem_set.py```, containing all the function definitions \\*\n",
    "\n",
    "(2) a Jupyter Note book file named ```python-problem-set.ipynb```, containing only the test cases and explanations.\n",
    "\n",
    "(3) the pdf version of (2) ```python-problem-set.pdf```\n",
    "\n",
    "<sub> \\* In case you're wondering, python allows underscores but not hyphens in module names </sub>\n",
    "\n",
    "\n",
    "### Attention:\n",
    "\n",
    "- Your function names must be precisely the same as specified in the assignment notebook, and your functions must take arguments in the same order as specified\n",
    "\n",
    "- If you wish, you can write your function definitions into the module directly, modifying the following steps appropriately"
   ]
  },
  {
   "cell_type": "markdown",
   "metadata": {
    "id": "f1eVN-03aGvw"
   },
   "source": [
    "### Step 1, solve the problems in Jupyter Notebook\n",
    "\n",
    "when the question is asking to write a function, please:\n",
    "\n",
    "(1) write the function in one or more cells\n",
    "\n",
    "(2) write at least one test case in another cell(s)\n",
    "\n",
    "for example:"
   ]
  },
  {
   "cell_type": "code",
   "execution_count": 5,
   "metadata": {},
   "outputs": [],
   "source": [
    "from python_problem_set import volume_of_cylinder"
   ]
  },
  {
   "cell_type": "code",
   "execution_count": 6,
   "metadata": {
    "id": "0ClDAmpLaGvx",
    "outputId": "385e19db-10a3-4843-bab7-3877d1e110da"
   },
   "outputs": [
    {
     "data": {
      "text/plain": [
       "70.685775"
      ]
     },
     "execution_count": 6,
     "metadata": {},
     "output_type": "execute_result"
    }
   ],
   "source": [
    "# this is a test case cell\n",
    "volume_of_cylinder(2.5,3.0)"
   ]
  },
  {
   "cell_type": "markdown",
   "metadata": {
    "id": "y-2Aax6gaGvy"
   },
   "source": [
    "### Step 2, copy all the function definitions to python_problem_set.py\n",
    "\n",
    "create a module named python_problem_set.py\n",
    "\n",
    "copy the function definitions in Step 1-(1) to this module"
   ]
  },
  {
   "cell_type": "markdown",
   "metadata": {
    "id": "p9doUzdVaGvy"
   },
   "source": [
    "### Step 3, remove definitions in Jupyter Notebook, import the module\n",
    "\n",
    "As a result of step 2,\n",
    "\n",
    "you can now remove the function defination in your Jupyter Notebook.\n",
    "\n",
    "But remember to import the function from the module\n",
    "\n",
    "```python\n",
    "from my_module import volume_of_cylinder\n",
    "volume_of_cylinder(2.5,3.0)\n",
    "```"
   ]
  },
  {
   "cell_type": "code",
   "execution_count": 7,
   "metadata": {
    "id": "1teSwF3YaGvy"
   },
   "outputs": [
    {
     "data": {
      "text/plain": [
       "70.685775"
      ]
     },
     "execution_count": 7,
     "metadata": {},
     "output_type": "execute_result"
    }
   ],
   "source": [
    "volume_of_cylinder(2.5,3.0)"
   ]
  },
  {
   "cell_type": "markdown",
   "metadata": {
    "id": "K8cV_jh7aGvy"
   },
   "source": [
    "## How to create a python module?\n",
    "\n",
    "(1) write your .py module in a seperate file (within the same folder)\n",
    "\n",
    "(2) import your module, and import your function here\n",
    "\n",
    "(3) run your function in this jupyter notebook"
   ]
  },
  {
   "cell_type": "markdown",
   "metadata": {
    "id": "dULdbdTWaGvy"
   },
   "source": [
    "## Problem Group 1 - Recursion"
   ]
  },
  {
   "cell_type": "markdown",
   "metadata": {
    "id": "NwbSShrxaGvy"
   },
   "source": [
    "### Problem 1.1 - Factorial"
   ]
  },
  {
   "cell_type": "code",
   "execution_count": 8,
   "metadata": {
    "id": "BIH7R7xjaGvz"
   },
   "outputs": [
    {
     "name": "stdout",
     "output_type": "stream",
     "text": [
      "120\n",
      "6\n",
      "1\n"
     ]
    }
   ],
   "source": [
    "print(recursive_factorial(5))\n",
    "print(recursive_factorial(3))\n",
    "print(recursive_factorial(0))"
   ]
  },
  {
   "cell_type": "markdown",
   "metadata": {
    "id": "olruI6rHaGvz"
   },
   "source": [
    "### Problem 1.2 - Memoization"
   ]
  },
  {
   "cell_type": "code",
   "execution_count": 9,
   "metadata": {
    "id": "UXeKUUTBaGvz"
   },
   "outputs": [],
   "source": [
    "# fib_memo = {}\n",
    "\n",
    "# def F_memo(n):\n",
    "#     if n == 1:\n",
    "#         return 0\n",
    "#     elif n == 2:\n",
    "#         return 1\n",
    "#     elif n not in fib_memo :\n",
    "#         fib_memo[n] = F_memo(n - 1) + F_memo(n - 2)\n",
    "#     return fib_memo[n]\n",
    "\n",
    "# def F(n):\n",
    "#     if n == 1:\n",
    "#         return 0\n",
    "#     elif n == 2:\n",
    "#         return 1\n",
    "#     else:\n",
    "#         return F(n - 1) + F(n - 2)"
   ]
  },
  {
   "cell_type": "code",
   "execution_count": 10,
   "metadata": {},
   "outputs": [
    {
     "name": "stdout",
     "output_type": "stream",
     "text": [
      "35.5 ns ± 0.267 ns per loop (mean ± std. dev. of 7 runs, 10,000,000 loops each)\n"
     ]
    }
   ],
   "source": [
    "%%timeit\n",
    "F_memo(25)"
   ]
  },
  {
   "cell_type": "code",
   "execution_count": 11,
   "metadata": {},
   "outputs": [
    {
     "name": "stdout",
     "output_type": "stream",
     "text": [
      "3.15 ms ± 38 µs per loop (mean ± std. dev. of 7 runs, 100 loops each)\n"
     ]
    }
   ],
   "source": [
    "%%timeit\n",
    "F(25)"
   ]
  },
  {
   "cell_type": "code",
   "execution_count": 12,
   "metadata": {},
   "outputs": [
    {
     "name": "stdout",
     "output_type": "stream",
     "text": [
      "passed\n"
     ]
    }
   ],
   "source": [
    "assert F(25) == F_memo(25)\n",
    "print('passed')"
   ]
  },
  {
   "cell_type": "code",
   "execution_count": 13,
   "metadata": {},
   "outputs": [],
   "source": [
    "# def recursive_factorial_memo(n):\n",
    "#     if n < 0:\n",
    "#         raise Exception('n cannot be negative')\n",
    "#     if n == 0:\n",
    "#         return 1\n",
    "#     elif n == 1:\n",
    "#         return 1\n",
    "#     elif n not in fac_memo :\n",
    "#         fac_memo[n] = n * recursive_factorial_memo(n - 1)\n",
    "#     return fac_memo[n]"
   ]
  },
  {
   "cell_type": "code",
   "execution_count": 14,
   "metadata": {},
   "outputs": [
    {
     "name": "stdout",
     "output_type": "stream",
     "text": [
      "38.3 ns ± 0.318 ns per loop (mean ± std. dev. of 7 runs, 10,000,000 loops each)\n"
     ]
    }
   ],
   "source": [
    "%%timeit\n",
    "recursive_factorial_memo(25)"
   ]
  },
  {
   "cell_type": "code",
   "execution_count": 15,
   "metadata": {},
   "outputs": [
    {
     "name": "stdout",
     "output_type": "stream",
     "text": [
      "809 ns ± 6.99 ns per loop (mean ± std. dev. of 7 runs, 1,000,000 loops each)\n"
     ]
    }
   ],
   "source": [
    "%%timeit\n",
    "recursive_factorial(25)"
   ]
  },
  {
   "cell_type": "code",
   "execution_count": 16,
   "metadata": {},
   "outputs": [
    {
     "name": "stdout",
     "output_type": "stream",
     "text": [
      "passed\n"
     ]
    }
   ],
   "source": [
    "assert recursive_factorial_memo(25) == recursive_factorial(25)\n",
    "print('passed')"
   ]
  },
  {
   "cell_type": "markdown",
   "metadata": {},
   "source": [
    "In both cases, we can notice a dramatic improvement of the runtime. This is because we are using dynamic programming approach to optimize the algorithm. In the non-dynamic approach, we are repeating the same operations many time. In the dynamic approach, we store the previously calcualted values in python dictionary thus we don't have to repeatedly calculate the subtree over and over. This speed increase will become more apparent as the argument gets larger. The speedup should scale exponentially."
   ]
  },
  {
   "cell_type": "markdown",
   "metadata": {
    "id": "kfUvZT43aGvz"
   },
   "source": [
    "### Problem 1.3 - Binomial Coefficients"
   ]
  },
  {
   "cell_type": "code",
   "execution_count": 17,
   "metadata": {
    "id": "ZSGGMN5BaGvz"
   },
   "outputs": [],
   "source": [
    "# def binomial_factorial(n: int, k: int) -> int:\n",
    "#     if n < 0 or k < 0:\n",
    "#         raise Exception('n or k cannot be negative')\n",
    "#     if k > n:\n",
    "#         return 0\n",
    "#         # raise exception here\n",
    "#     return recursive_factorial(n)/(recursive_factorial(k)*recursive_factorial(n-k))\n",
    "\n",
    "# def binomial_recursive(n : int, k : int) -> int:\n",
    "#     if n < 0 or k < 0:\n",
    "#         raise Exception('n or k cannot be negative')\n",
    "#     if k > n:\n",
    "#         raise Exception('k cannot be greater than n')\n",
    "#     if k == 0:\n",
    "#         return 1\n",
    "#     if n == k:\n",
    "#         return 1\n",
    "#     else:\n",
    "#         return binomial_recursive(n-1, k-1) + binomial_recursive(n-1, k)"
   ]
  },
  {
   "cell_type": "code",
   "execution_count": 18,
   "metadata": {
    "id": "DwMHMbVBaGvz"
   },
   "outputs": [
    {
     "name": "stdout",
     "output_type": "stream",
     "text": [
      "True\n"
     ]
    }
   ],
   "source": [
    "test = True\n",
    "for i in range(10):\n",
    "    for j in range(0, i+1):\n",
    "        if binomial_factorial(i, j) != binomial_recursive(i, j):\n",
    "            test = False\n",
    "print(test)"
   ]
  },
  {
   "cell_type": "markdown",
   "metadata": {
    "id": "ujbcZyiSaGvz"
   },
   "source": [
    "### Problem 1.4 - The Logistic Map\n",
    "\n",
    "Your recursive function might be too slow to run\n",
    "\n",
    "In that case, use the memoization method from problem 1.2 to accelerate it"
   ]
  },
  {
   "cell_type": "code",
   "execution_count": 19,
   "metadata": {
    "id": "LWI--LYvaGvz"
   },
   "outputs": [],
   "source": [
    "# def logistic(n : int, r : float, x0 : float):\n",
    "#     if n < 0:\n",
    "#         raise Exception('n cannot be negative')\n",
    "#     if n == 0:\n",
    "#         return r*x0*(1-x0)\n",
    "#     else:\n",
    "#         term = logistic(n-1, r, x0)\n",
    "#         return r*term*(1-term)"
   ]
  },
  {
   "cell_type": "code",
   "execution_count": 20,
   "metadata": {
    "id": "E7QN1NGfaGvz"
   },
   "outputs": [
    {
     "data": {
      "image/png": "[encoded data removed]",
      "text/plain": [
       "<Figure size 800x600 with 5 Axes>"
      ]
     },
     "metadata": {},
     "output_type": "display_data"
    }
   ],
   "source": [
    "import matplotlib.pyplot as plt\n",
    "\n",
    "fig, ax = plt.subplots(nrows=5, ncols=1, figsize = (8, 6))\n",
    "x0 = 0.5\n",
    "r_arr = [0.5, 1.5, 2.5, 3.3, 3.5]\n",
    "n_arr = [i for i in range(50)]\n",
    "y_arr = []\n",
    "for i in range(len(r_arr)):\n",
    "    for n in n_arr:\n",
    "        y_arr.append(logistic(n, r_arr[i], x0))\n",
    "    ax[i].plot(n_arr, y_arr)\n",
    "    y_arr.clear()\n",
    "\n",
    "plt.tight_layout()\n",
    "plt.show()"
   ]
  },
  {
   "cell_type": "markdown",
   "metadata": {},
   "source": [
    "As we can see, for the $r=0.5$ case, the logistic map converge to 0 quickly. For the $r=1.5$ case, the logistic map converge to a non-zero quickly. For the $r=2.5$ case, the logistic map bounces a little and then converge to 0.6 quickly. For the $r=3.3$ case, the logistic map bounces back and fourth between two values. For the $r=3.5$ case, the logistic map bounces back and fourth between two ranges, but not with two fixed values."
   ]
  },
  {
   "cell_type": "markdown",
   "metadata": {
    "id": "SE_fFFLzaGvz"
   },
   "source": [
    "## Problem Group 2 - Searching for stuff\n"
   ]
  },
  {
   "cell_type": "markdown",
   "metadata": {
    "id": "ZTS9fzJiaGvz"
   },
   "source": [
    "### Problem 2.1 - Linear Search\n"
   ]
  },
  {
   "cell_type": "code",
   "execution_count": 21,
   "metadata": {
    "id": "T2oF4gwNaGv0"
   },
   "outputs": [],
   "source": [
    "# def linear_search(L : list[int], n : int):\n",
    "#     for i in range(len(L)):\n",
    "#         if n == L[i]:\n",
    "#             return i\n",
    "#     print('The specific number is not in the list.')\n",
    "#     return "
   ]
  },
  {
   "cell_type": "code",
   "execution_count": 22,
   "metadata": {
    "id": "d2TeVfrfaGv0"
   },
   "outputs": [
    {
     "name": "stdout",
     "output_type": "stream",
     "text": [
      "3\n",
      "The specific number is not in the list.\n",
      "None\n"
     ]
    }
   ],
   "source": [
    "L = [3,4,7,9,10]\n",
    "print(linear_search(L, 9))\n",
    "print(linear_search(L, 13))"
   ]
  },
  {
   "cell_type": "markdown",
   "metadata": {
    "id": "ncrntOksaGv0"
   },
   "source": [
    "### Problem 2.2 - Bisection(Binary) Search"
   ]
  },
  {
   "cell_type": "code",
   "execution_count": 23,
   "metadata": {
    "id": "3Hjbm2reaGv0"
   },
   "outputs": [],
   "source": [
    "# def bisection_search(L : list[int], n : int):\n",
    "#     start = 0\n",
    "#     end = len(L) -1\n",
    "#     middle = 0\n",
    "#     while (end-start+1) > 2:\n",
    "#         middle = int((start + end)/2)\n",
    "#         if L[middle] < n:\n",
    "#             start = middle\n",
    "#         else:\n",
    "#             end = middle\n",
    "#     if L[start] == n or L[end] == n:\n",
    "#         return True\n",
    "#     else:\n",
    "#         return False"
   ]
  },
  {
   "cell_type": "code",
   "execution_count": 24,
   "metadata": {
    "id": "-dA4nnx6aGv0"
   },
   "outputs": [
    {
     "name": "stdout",
     "output_type": "stream",
     "text": [
      "Testing elements in list:\n",
      "Searching for 1: Pass\n",
      "Searching for 2: Pass\n",
      "Searching for 3: Pass\n",
      "Searching for 4: Pass\n",
      "Searching for 5: Pass\n",
      "Searching for 6: Pass\n",
      "Searching for 7: Pass\n",
      "Searching for 8: Pass\n",
      "Searching for 9: Pass\n",
      "Searching for 10: Pass\n",
      "Testing element not in list:\n",
      "Searching for 0: Pass\n",
      "Searching for 11: Pass\n",
      "Testing small list:\n",
      "Searching for 1: Pass\n",
      "Searching for 2: Pass\n",
      "Searching for 3: Pass\n",
      "Searching for 4: Pass\n",
      "Testing list with duplicates:\n",
      "Searching for 2: Pass\n",
      "Searching for 3: Pass\n"
     ]
    }
   ],
   "source": [
    "test_list = [1, 2, 3, 4, 5, 6, 7, 8, 9, 10]\n",
    "\n",
    "print(\"Testing elements in list:\")\n",
    "for i in range(1, 11):\n",
    "    print(f\"Searching for {i}: {'Pass' if bisection_search(test_list, i) else 'Fail'}\")\n",
    "\n",
    "print(\"Testing element not in list:\")\n",
    "print(\"Searching for 0:\", \"Pass\" if not bisection_search(test_list, 0) else \"Fail\")\n",
    "print(\"Searching for 11:\", \"Pass\" if not bisection_search(test_list, 11) else \"Fail\")\n",
    "\n",
    "small_test_list = [1, 2, 3]\n",
    "print(\"Testing small list:\")\n",
    "print(\"Searching for 1:\", \"Pass\" if bisection_search(small_test_list, 1) else \"Fail\")\n",
    "print(\"Searching for 2:\", \"Pass\" if bisection_search(small_test_list, 2) else \"Fail\")\n",
    "print(\"Searching for 3:\", \"Pass\" if bisection_search(small_test_list, 3) else \"Fail\")\n",
    "print(\"Searching for 4:\", \"Pass\" if not bisection_search(small_test_list, 4) else \"Fail\")\n",
    "\n",
    "duplicate_test_list = [1, 2, 2, 2, 3]\n",
    "print(\"Testing list with duplicates:\")\n",
    "print(\"Searching for 2:\", \"Pass\" if bisection_search(duplicate_test_list, 2) else \"Fail\")\n",
    "print(\"Searching for 3:\", \"Pass\" if bisection_search(duplicate_test_list, 3) else \"Fail\")"
   ]
  },
  {
   "cell_type": "markdown",
   "metadata": {
    "id": "_QvZfbBVaGv0"
   },
   "source": [
    "### Problem 2.3 - Bisection Root Finding"
   ]
  },
  {
   "cell_type": "code",
   "execution_count": 25,
   "metadata": {
    "id": "5R7SfwwBaGv0"
   },
   "outputs": [],
   "source": [
    "# def bisection_root(f, x_left : float, x_right : float, epsilon : float):\n",
    "#     while (x_right - x_left) / 2 > epsilon:\n",
    "#         mid = (x_right + x_left)/2\n",
    "        \n",
    "#         if f(mid) == 0:\n",
    "#             return mid\n",
    "        \n",
    "#         if f(x_left) * f(mid) < 0:\n",
    "#             x_right = mid\n",
    "#         else:\n",
    "#             x_left = mid\n",
    "    \n",
    "#     return (x_left + x_right)/2"
   ]
  },
  {
   "cell_type": "code",
   "execution_count": 26,
   "metadata": {
    "id": "p_KYz3nVaGv0"
   },
   "outputs": [
    {
     "name": "stdout",
     "output_type": "stream",
     "text": [
      "3.001953125\n",
      "-3.0\n",
      "2.0\n",
      "1.416015625\n"
     ]
    }
   ],
   "source": [
    "print(bisection_root((lambda x: x**2-9), 2, 5, 0.01))\n",
    "print(bisection_root((lambda x: x**2-9), -4, -2, 0.01))\n",
    "print(bisection_root((lambda x: x**2-4), 1, 3, 0.01))\n",
    "print(bisection_root((lambda x: x**2-2), 0, 5, 0.01))"
   ]
  },
  {
   "cell_type": "markdown",
   "metadata": {
    "id": "ShDvEhxWaGv0"
   },
   "source": [
    "### Problem 2.4 - A Physical Application: Projectile Range Maximization"
   ]
  },
  {
   "cell_type": "markdown",
   "metadata": {
    "id": "flTQCrh8aGv0"
   },
   "source": [
    "#### (1)\n",
    "use Markdown to write equation"
   ]
  },
  {
   "cell_type": "markdown",
   "metadata": {
    "id": "YMtjmHCwaGv0"
   },
   "source": [
    "$$x(t) = v\\cos{(\\theta)}t$$\n",
    "$$y(t) = v\\sin{(\\theta)}t$$\n",
    "$$z(t) = -\\frac{1}{2}gt^2 = -x(t)\\tan{\\phi}$$\n",
    "We can solve for `t` from `z(t)` as\n",
    "$$t = \\frac{2v\\cos{\\theta}\\tan{\\phi}}{g} $$\n",
    "Plug `t` back into `x(t)`, we get\n",
    "$$x_{f} = r = \\frac{2v^2 \\cos^2{\\theta} \\tan{\\phi}}{g}$$"
   ]
  },
  {
   "cell_type": "markdown",
   "metadata": {
    "id": "hzzikDZ5aGv0"
   },
   "source": [
    "#### (2)"
   ]
  },
  {
   "cell_type": "markdown",
   "metadata": {
    "id": "sLn5HMYUaGv0"
   },
   "source": [
    "$$r = \\frac{2v^2 \\cos^2{\\theta} \\tan{\\phi}}{g}$$\n",
    "To find derivative and maximum $\\phi$ and v,\n",
    "$$\\frac{dr}{dt} = 0$$\n",
    "$$\\frac{-4v^2 \\tan{\\phi} \\cos{\\theta} \\sin{\\theta}}{g} = 0$$\n",
    "We see that the critical point is 0 when \n",
    "$$\\cos{\\theta} = 0 \\text{ or } \\sin{\\theta} = 0$$\n",
    "However, only the second case correspond to local maximum since if $\\cos{\\theta} = 0$, our range will be 0. Therefore, we conclude that $\\theta = k\\pi$ where k is an integer correspond to maximum range, since $\\sin{\\theta}$ will be 0 in those cases."
   ]
  },
  {
   "cell_type": "markdown",
   "metadata": {
    "id": "O3TS5v-uaGv0"
   },
   "source": [
    "#### (3)\n",
    "you should use the function in Problem 2.3 Bisection Root Finding  \n",
    "But before that, you should know what is your function, which we are looking for the root."
   ]
  },
  {
   "cell_type": "code",
   "execution_count": 27,
   "metadata": {
    "id": "Xi9YbY7BaGv1"
   },
   "outputs": [
    {
     "name": "stdout",
     "output_type": "stream",
     "text": [
      "Theoratical range:  [0.0, 8.453338007614184, 20.40816326530612, 49.26966453822642]\n",
      "Bisection range:  [0.0, 8.453338007614184, 20.40816326530612, 49.26966453822642]\n"
     ]
    }
   ],
   "source": [
    "v0 = 10 # assume initial speed is 10\n",
    "\n",
    "# using bisection_root\n",
    "phi_list = np.array([0, np.pi/8, np.pi/4, 3*np.pi/8])\n",
    "phi = 0\n",
    "def max_theta(theta):\n",
    "    return -4*v0**2*np.tan(phi)*np.sin(theta)\n",
    "\n",
    "def r(theta, phi, v = v0):\n",
    "    return 2*v**2 * (np.cos(theta))**2 * np.tan(phi) / 9.8\n",
    "\n",
    "theta = []\n",
    "out = []\n",
    "out_computational = []\n",
    "\n",
    "for i in range(phi_list.size):\n",
    "    phi = phi_list[i]\n",
    "    theta.append(bisection_root(max_theta, -2, 2, 0.01))\n",
    "\n",
    "for i in range(phi_list.size):\n",
    "    out.append(r(theta[i], phi_list[i]))\n",
    "    out_computational.append(r(0, phi_list[i]))\n",
    "\n",
    "\n",
    "print('Theoratical range: ', out_computational)\n",
    "print('Bisection range: ', out)"
   ]
  },
  {
   "cell_type": "markdown",
   "metadata": {
    "id": "GZ0p-WdhaGv1"
   },
   "source": [
    "## Problem Group 3 - Fun with primes"
   ]
  },
  {
   "cell_type": "markdown",
   "metadata": {
    "id": "0RFZnVhbaGv1"
   },
   "source": [
    "### Problem 3.1 - Sieve of Eratosthenes"
   ]
  },
  {
   "cell_type": "code",
   "execution_count": 28,
   "metadata": {
    "id": "aginreyWaGv1"
   },
   "outputs": [],
   "source": [
    "# @njit\n",
    "# def sieve_Eratosthenes(n : int) -> list[int]:\n",
    "#     if n < 2:\n",
    "#         raise Exception('n must be greater or equal to 2')\n",
    "#     if n == 2:\n",
    "#         return [2]\n",
    "#     numbers = [i for i in range(n+1)]\n",
    "#     isPrime = [True for i in range(n+1)]\n",
    "#     prime = 2\n",
    "#     while (prime**2 <= n):\n",
    "#         if (isPrime[prime] == True):\n",
    "#             for i in range(prime**2, n+1):\n",
    "#                 if i % prime == 0:\n",
    "#                     isPrime[i] = False\n",
    "#         prime = prime + 1\n",
    "    \n",
    "#     delete = [0, 1]\n",
    "#     numbers = np.array(numbers)\n",
    "#     isPrime = np.array(isPrime)\n",
    "#     return list(np.delete(numbers[isPrime], delete))\n",
    "\n",
    "# def sieve_Eratosthenes_nonoptimized(n : int) -> list[int]:\n",
    "#     if n < 2:\n",
    "#         raise Exception('n must be greater or equal to 2')\n",
    "#     if n == 2:\n",
    "#         return [2]\n",
    "#     numbers = [i for i in range(n+1)]\n",
    "#     isPrime = [True for i in range(n+1)]\n",
    "#     prime = 2\n",
    "#     while (prime**2 <= n):\n",
    "#         if (isPrime[prime] == True):\n",
    "#             for i in range(prime**2, n+1):\n",
    "#                 if i % prime == 0:\n",
    "#                     isPrime[i] = False\n",
    "#         prime = prime + 1\n",
    "    \n",
    "#     delete = [0, 1]\n",
    "#     numbers = np.array(numbers)\n",
    "#     isPrime = np.array(isPrime)\n",
    "#     return list(np.delete(numbers[isPrime], delete))"
   ]
  },
  {
   "cell_type": "code",
   "execution_count": 29,
   "metadata": {},
   "outputs": [
    {
     "name": "stdout",
     "output_type": "stream",
     "text": [
      "[2]\n",
      "[2, 3, 5, 7, 11]\n",
      "[2, 3, 5, 7, 11, 13, 17, 19, 23, 29, 31, 37, 41, 43, 47, 53]\n"
     ]
    }
   ],
   "source": [
    "print(sieve_Eratosthenes(2))\n",
    "print(sieve_Eratosthenes(11))\n",
    "print(sieve_Eratosthenes(53))"
   ]
  },
  {
   "cell_type": "markdown",
   "metadata": {
    "id": "Ftz__QBkaGv1"
   },
   "source": [
    "### Problem 3.2 - Prime Factorization"
   ]
  },
  {
   "cell_type": "code",
   "execution_count": 30,
   "metadata": {
    "id": "QitOY7Y6aGv1"
   },
   "outputs": [],
   "source": [
    "# def prime_factors(n : int) -> list[int]:\n",
    "#     if n < 2:\n",
    "#         raise Exception('n should be greater or equal than 2')\n",
    "#     prime_list = sieve_Eratosthenes(n)\n",
    "#     out = []\n",
    "#     prime_index = 0\n",
    "#     while n >= 2:\n",
    "#         if n % prime_list[prime_index] == 0:\n",
    "#             out.append(prime_list[prime_index])\n",
    "#             n = n / prime_list[prime_index]\n",
    "#         else:\n",
    "#             prime_index = prime_index + 1\n",
    "#     return out"
   ]
  },
  {
   "cell_type": "code",
   "execution_count": 31,
   "metadata": {
    "id": "Jhh3v31WaGv1"
   },
   "outputs": [
    {
     "name": "stdout",
     "output_type": "stream",
     "text": [
      "[2]\n",
      "[3]\n",
      "[2, 2]\n",
      "[2, 2, 5]\n",
      "[7, 7]\n",
      "[3, 3, 7]\n",
      "[2, 5, 5, 5]\n"
     ]
    }
   ],
   "source": [
    "print(prime_factors(2))\n",
    "print(prime_factors(3))\n",
    "print(prime_factors(4))\n",
    "print(prime_factors(20))\n",
    "print(prime_factors(49))\n",
    "print(prime_factors(63))\n",
    "print(prime_factors(250))"
   ]
  },
  {
   "cell_type": "markdown",
   "metadata": {
    "id": "aeCHcS_4aGv1"
   },
   "source": [
    "### Problem 3.3 - $n^{th}$ prime"
   ]
  },
  {
   "cell_type": "code",
   "execution_count": 32,
   "metadata": {
    "id": "HgqtUxx5aGv1"
   },
   "outputs": [],
   "source": [
    "# @njit\n",
    "# def nth_prime(n : int) -> int:\n",
    "#     if n < 1:\n",
    "#         raise Exception('input cannot be less than 1')\n",
    "#     elif n == 1:\n",
    "#         return 2\n",
    "#     elif n == 2:\n",
    "#         return 3\n",
    "    \n",
    "#     guess_N = int(n * (np.log(n) + np.log(np.log(n))))\n",
    "#     prime_list = sieve_Eratosthenes(guess_N)\n",
    "#     while len(prime_list) < n:\n",
    "#         guess_N = guess_N * 2\n",
    "#         prime_list = sieve_Eratosthenes(guess_N)\n",
    "#     return prime_list[n-1]\n",
    "\n",
    "# def nth_prime_non_optimized(n : int) -> int:\n",
    "#     if n < 1:\n",
    "#         raise Exception('input cannot be less than 1')\n",
    "#     elif n == 1:\n",
    "#         return 2\n",
    "#     elif n == 2:\n",
    "#         return 3\n",
    "    \n",
    "#     guess_N = int(n * (np.log(n) + np.log(np.log(n))))\n",
    "#     prime_list = sieve_Eratosthenes_nonoptimized(guess_N)\n",
    "#     while len(prime_list) < n:\n",
    "#         guess_N = guess_N * 2\n",
    "#         prime_list = sieve_Eratosthenes_nonoptimized(guess_N)\n",
    "#     return prime_list[n-1]"
   ]
  },
  {
   "cell_type": "code",
   "execution_count": 33,
   "metadata": {},
   "outputs": [
    {
     "name": "stdout",
     "output_type": "stream",
     "text": [
      "266 ms ± 2.33 ms per loop (mean ± std. dev. of 7 runs, 1 loop each)\n"
     ]
    }
   ],
   "source": [
    "%%timeit\n",
    "nth_prime(5)\n",
    "nth_prime(100000)"
   ]
  },
  {
   "cell_type": "code",
   "execution_count": 34,
   "metadata": {},
   "outputs": [
    {
     "name": "stdout",
     "output_type": "stream",
     "text": [
      "3.13 s ± 23.4 ms per loop (mean ± std. dev. of 7 runs, 1 loop each)\n"
     ]
    }
   ],
   "source": [
    "%%timeit\n",
    "nth_prime_non_optimized(5)\n",
    "nth_prime_non_optimized(100000)"
   ]
  },
  {
   "cell_type": "code",
   "execution_count": 35,
   "metadata": {},
   "outputs": [
    {
     "name": "stdout",
     "output_type": "stream",
     "text": [
      "All tests passed!\n"
     ]
    }
   ],
   "source": [
    "assert nth_prime(3) == 5\n",
    "assert nth_prime(4) == 7\n",
    "assert nth_prime(5) == 11\n",
    "assert nth_prime(10) == 29\n",
    "assert nth_prime(100) == 541\n",
    "assert nth_prime(10001) == 104743\n",
    "assert nth_prime(10) == nth_prime_non_optimized(10)\n",
    "print(\"All tests passed!\")"
   ]
  },
  {
   "cell_type": "markdown",
   "metadata": {
    "id": "NMbyAyw7aGv1"
   },
   "source": [
    "### Problem 4 - Twelve sided dice\n"
   ]
  },
  {
   "cell_type": "code",
   "execution_count": 1,
   "metadata": {},
   "outputs": [
    {
     "name": "stdout",
     "output_type": "stream",
     "text": [
      "5\n",
      "3\n",
      "1111\n"
     ]
    }
   ],
   "source": [
    "from math import factorial\n",
    "\n",
    "def count_occurence(dice_combo):\n",
    "    # count the occurence of each entry in the configuration\n",
    "    occurence = {}\n",
    "    for dice_value in dice_combo:\n",
    "        if dice_value in occurence:\n",
    "            occurence[dice_value] = occurence[dice_value] + 1\n",
    "        else:\n",
    "            occurence[dice_value] = 1\n",
    "    return occurence\n",
    "\n",
    "def count_combination(dice_side, total_dice_num, dice_combo):\n",
    "    # check if the combo list is valid\n",
    "    for dice in dice_combo:\n",
    "        if dice > dice_side:\n",
    "            raise Exception('Dice input larger than maximum side')\n",
    "        elif dice < 0:\n",
    "            raise Exception('Dice input lower than minumum side')\n",
    "\n",
    "    # use multinomial coefficient formula to calculate the combination\n",
    "    occurence = count_occurence(dice_combo)\n",
    "    denominator = 1\n",
    "    numerator = factorial(total_dice_num)\n",
    "\n",
    "    for key, value in occurence.items():\n",
    "        denominator = denominator * factorial(value)\n",
    "\n",
    "    return numerator // denominator\n",
    "\n",
    "# main recursion function\n",
    "def top_sum(dice_side: int, top_num : int, total_dice_num : int, target_sum : int, dice_combo : list) -> int:\n",
    "    # discard the invalid configuration\n",
    "    if len(dice_combo) == top_num and sum(dice_combo) != target_sum:\n",
    "        return 0\n",
    "    # count the number of combinations from configuration\n",
    "    if len(dice_combo) == total_dice_num:\n",
    "        return count_combination(dice_side, total_dice_num, dice_combo)\n",
    "    \n",
    "    if len(dice_combo) == 0:\n",
    "        next_dice = dice_side\n",
    "    else:\n",
    "        next_dice = dice_combo[-1]\n",
    "\n",
    "    # use dp to do recursion for all possibilities\n",
    "    # essentially we are trying all possibilities by adding one dice at a time\n",
    "    # suppose the first time we are adding the first element, then the next recursion line\n",
    "    # we are adding the second allowed item specified by the next_dice range so that we are\n",
    "    # not exceeding the maximum\n",
    "    # then our base case will use count_combination() to calcuate the number of combinations\n",
    "    # of the successful combinations\n",
    "    out = 0\n",
    "    for dice in range(1, next_dice + 1):\n",
    "        dice_combo.append(dice)\n",
    "        out = out + top_sum(dice_side, top_num, total_dice_num, target_sum, dice_combo)\n",
    "        dice_combo.pop()\n",
    "    return out\n",
    "\n",
    "print(top_sum(6, 2, 2, 6, []))\n",
    "print(top_sum(6, 2, 3, 3, []))\n",
    "print(top_sum(6, 3, 5, 15, []))"
   ]
  },
  {
   "cell_type": "code",
   "execution_count": 2,
   "metadata": {},
   "outputs": [
    {
     "name": "stdout",
     "output_type": "stream",
     "text": [
      "5\n",
      "3\n",
      "7448717393364181966\n"
     ]
    }
   ],
   "source": [
    "from math import factorial\n",
    "\n",
    "def count_occurence(dice_combo):\n",
    "    # count the occurence of each entry in the configuration\n",
    "    occurence = {}\n",
    "    for dice_value in dice_combo:\n",
    "        if dice_value in occurence:\n",
    "            occurence[dice_value] = occurence[dice_value] + 1\n",
    "        else:\n",
    "            occurence[dice_value] = 1\n",
    "    return occurence\n",
    "\n",
    "def count_combination(dice_side, total_dice_num, dice_combo):\n",
    "    # check if the combo list is valid\n",
    "    for dice in dice_combo:\n",
    "        if dice > dice_side:\n",
    "            raise Exception('Dice input larger than maximum side')\n",
    "        elif dice < 0:\n",
    "            raise Exception('Dice input lower than minumum side')\n",
    "\n",
    "    # use multinomial coefficient formula to calculate the combination\n",
    "    occurence = count_occurence(dice_combo)\n",
    "    denominator = 1\n",
    "    numerator = factorial(total_dice_num)\n",
    "\n",
    "    for key, value in occurence.items():\n",
    "        denominator = denominator * factorial(value)\n",
    "\n",
    "    return numerator // denominator\n",
    "\n",
    "# main recursion function\n",
    "def top_sum(dice_side: int, top_num : int, total_dice_num : int, target_sum : int, dice_combo : list) -> int:\n",
    "    # discard the invalid configuration\n",
    "    if len(dice_combo) == top_num and sum(dice_combo) != target_sum:\n",
    "        return 0\n",
    "    # count the number of combinations from configuration\n",
    "    if len(dice_combo) == total_dice_num:\n",
    "        return count_combination(dice_side, total_dice_num, dice_combo)\n",
    "    \n",
    "    if len(dice_combo) == 0:\n",
    "        next_dice = dice_side\n",
    "    else:\n",
    "        next_dice = dice_combo[-1]\n",
    "\n",
    "    # use dp to do recursion for all possibilities\n",
    "    # essentially we are trying all possibilities by adding one dice at a time\n",
    "    # suppose the first time we are adding the first element, then the next recursion line\n",
    "    # we are adding the second allowed item specified by the next_dice range so that we are\n",
    "    # not exceeding the maximum\n",
    "    # then our base case will use count_combination() to calcuate the number of combinations\n",
    "    # of the successful combinations\n",
    "    out = 0\n",
    "    for dice in range(1, next_dice + 1):\n",
    "        dice_combo.append(dice)\n",
    "        out = out + top_sum(dice_side, top_num, total_dice_num, target_sum, dice_combo)\n",
    "        dice_combo.pop()\n",
    "    return out\n",
    "\n",
    "print(top_sum(6, 2, 2, 6, []))\n",
    "print(top_sum(6, 2, 3, 3, []))\n",
    "print(top_sum(12, 10, 20, 70, []))"
   ]
  },
  {
   "cell_type": "code",
   "execution_count": null,
   "metadata": {},
   "outputs": [],
   "source": []
  }
 ],
 "metadata": {
  "anaconda-cloud": {},
  "colab": {
   "provenance": []
  },
  "kernelspec": {
   "display_name": "Python 3 (ipykernel)",
   "language": "python",
   "name": "python3"
  },
  "language_info": {
   "codemirror_mode": {
    "name": "ipython",
    "version": 3
   },
   "file_extension": ".py",
   "mimetype": "text/x-python",
   "name": "python",
   "nbconvert_exporter": "python",
   "pygments_lexer": "ipython3",
   "version": "3.9.7"
  }
 },
 "nbformat": 4,
 "nbformat_minor": 1
}

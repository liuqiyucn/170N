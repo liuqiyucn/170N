{
 "cells": [
  {
   "cell_type": "code",
   "execution_count": null,
   "metadata": {},
   "outputs": [],
   "source": [
    "# def dH_p(q, p):\n",
    "#     \"\"\" Derivative of the Hamiltonian with respect to momentum \"\"\"\n",
    "#     m = 1  # Mass of Earth set to 1 for simplicity\n",
    "#     return p / m\n",
    "\n",
    "# def dH_q(q, p):\n",
    "#     \"\"\" Derivative of the Hamiltonian with respect to position \"\"\"\n",
    "#     G = 6.67430e-11  # gravitational constant in m^3 kg^-1 s^-2\n",
    "#     M = 1.989e30     # Mass of the Sun in kg\n",
    "#     r = np.linalg.norm(q)\n",
    "#     return -G * M / r**3 * q\n",
    "\n",
    "# # Constants\n",
    "# t_0 = 0.0\n",
    "# q_0 = np.array([1.4710e11, 0, 0])  # Initial position in meters\n",
    "# p_0 = np.array([0, 3.0287e4 * 5.972e24, 0])  # Initial momentum in kg*m/s\n",
    "# h = 10000  # Step size in seconds\n",
    "# N = 1000   # Number of steps\n",
    "\n",
    "# # Use the hamiltonian_solve function with the Stormer Verlet method\n",
    "# T, Q, P = hamiltonian_solve(dH_q, dH_p, d=3, t_0=t_0, q_0=q_0, p_0=p_0, h=h, N=N, method=\"SV\")\n",
    "\n",
    "# # Example to plot the result, using matplotlib\n",
    "# import matplotlib.pyplot as plt\n",
    "\n",
    "# plt.figure(figsize=(10, 8))\n",
    "# plt.plot(Q[:, 0], Q[:, 1])\n",
    "# plt.scatter([0], [0], color='yellow', label='Sun')  # Position of the Sun\n",
    "# plt.xlabel('X (m)')\n",
    "# plt.ylabel('Y (m)')\n",
    "# plt.title('Orbit of the Earth around the Sun using Hamiltonian Mechanics')\n",
    "# plt.legend()\n",
    "# plt.grid(True)\n",
    "# plt.axis('equal')\n",
    "# plt.show()"
   ]
  }
 ],
 "metadata": {
  "language_info": {
   "name": "python"
  }
 },
 "nbformat": 4,
 "nbformat_minor": 2
}
